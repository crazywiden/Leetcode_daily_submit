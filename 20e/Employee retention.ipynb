{
 "cells": [
  {
   "cell_type": "markdown",
   "metadata": {},
   "source": [
    "# Background\n",
    "\n",
    "## Goal\n",
    "\n",
    "To predict when employees are going to quit by understanding the main drivers of employee churn.\n",
    "\n",
    "## Tasks\n",
    "\n",
    "Assume, for each company, that the headcount starts from zero on 2011/01/23. Estimate employee headcount, for each company, on each day, from 2011/01/24 to 2015/12/13. That is, if by 2012/03/02 2000 people have joined company 1 and 1000 of them have already quit, then company headcount on 2012/03/02 for company 1 would be 1000. You should create a table with 3 columns: day, employee_headcount, company_id.\n",
    "\n",
    "\n",
    "What are the main factors that drive employee churn? Do they make sense? Explain your findings.\n",
    "\n",
    "\n",
    "If you could add to this data set just one variable that could help explain employee churn, what would that be?\n",
    "\n",
    "## Dataset\n",
    "\n",
    "employee_id : id of the employee. Unique by employee per company company_id : company id.\n",
    "\n",
    "dept : employee dept\n",
    "\n",
    "seniority : number of yrs of work experience when hired\n",
    "\n",
    "salary: avg yearly salary of the employee during her tenure within the company join_date: when the employee joined the company, it can only be between 2011/01/24 and 2015/12/13\n",
    "\n",
    "quit_date: when the employee left her job (if she is still employed as of 2015/12/13, this field is NA)"
   ]
  },
  {
   "cell_type": "code",
   "execution_count": 1,
   "metadata": {},
   "outputs": [
    {
     "name": "stdout",
     "output_type": "stream",
     "text": [
      "Collecting pdpbox\n",
      "\u001b[?25l  Downloading https://files.pythonhosted.org/packages/87/23/ac7da5ba1c6c03a87c412e7e7b6e91a10d6ecf4474906c3e736f93940d49/PDPbox-0.2.0.tar.gz (57.7MB)\n",
      "\u001b[K     |████████████████████████████████| 57.7MB 88.1MB/s eta 0:00:01\n",
      "\u001b[?25hRequirement already satisfied: pandas in /srv/conda/envs/notebook/lib/python3.7/site-packages (from pdpbox) (0.24.2)\n",
      "Requirement already satisfied: numpy in /srv/conda/envs/notebook/lib/python3.7/site-packages (from pdpbox) (1.16.4)\n",
      "Requirement already satisfied: scipy in /srv/conda/envs/notebook/lib/python3.7/site-packages (from pdpbox) (1.3.0)\n",
      "Requirement already satisfied: matplotlib>=2.1.2 in /srv/conda/envs/notebook/lib/python3.7/site-packages (from pdpbox) (3.1.1)\n",
      "Requirement already satisfied: joblib in /srv/conda/envs/notebook/lib/python3.7/site-packages (from pdpbox) (0.13.2)\n",
      "Requirement already satisfied: psutil in /srv/conda/envs/notebook/lib/python3.7/site-packages (from pdpbox) (5.6.3)\n",
      "Requirement already satisfied: scikit-learn in /srv/conda/envs/notebook/lib/python3.7/site-packages (from pdpbox) (0.21.2)\n",
      "Requirement already satisfied: python-dateutil>=2.5.0 in /srv/conda/envs/notebook/lib/python3.7/site-packages (from pandas->pdpbox) (2.8.0)\n",
      "Requirement already satisfied: pytz>=2011k in /srv/conda/envs/notebook/lib/python3.7/site-packages (from pandas->pdpbox) (2019.1)\n",
      "Requirement already satisfied: kiwisolver>=1.0.1 in /srv/conda/envs/notebook/lib/python3.7/site-packages (from matplotlib>=2.1.2->pdpbox) (1.1.0)\n",
      "Requirement already satisfied: pyparsing!=2.0.4,!=2.1.2,!=2.1.6,>=2.0.1 in /srv/conda/envs/notebook/lib/python3.7/site-packages (from matplotlib>=2.1.2->pdpbox) (2.4.0)\n",
      "Requirement already satisfied: cycler>=0.10 in /srv/conda/envs/notebook/lib/python3.7/site-packages (from matplotlib>=2.1.2->pdpbox) (0.10.0)\n",
      "Requirement already satisfied: six>=1.5 in /srv/conda/envs/notebook/lib/python3.7/site-packages (from python-dateutil>=2.5.0->pandas->pdpbox) (1.12.0)\n",
      "Requirement already satisfied: setuptools in /srv/conda/envs/notebook/lib/python3.7/site-packages (from kiwisolver>=1.0.1->matplotlib>=2.1.2->pdpbox) (41.0.1)\n",
      "Building wheels for collected packages: pdpbox\n",
      "  Building wheel for pdpbox (setup.py) ... \u001b[?25ldone\n",
      "\u001b[?25h  Stored in directory: /home/jovyan/.cache/pip/wheels/7d/08/51/63fd122b04a2c87d780464eeffb94867c75bd96a64d500a3fe\n",
      "Successfully built pdpbox\n",
      "Installing collected packages: pdpbox\n",
      "Successfully installed pdpbox-0.2.0\n"
     ]
    }
   ],
   "source": [
    "import sys\n",
    "!{sys.executable} -m pip install pdpbox"
   ]
  },
  {
   "cell_type": "code",
   "execution_count": 128,
   "metadata": {},
   "outputs": [],
   "source": [
    "%matplotlib inline\n",
    "import random\n",
    "import pandas as pd\n",
    "import numpy as np\n",
    "import scipy.stats as st\n",
    "import matplotlib.pyplot as plt\n",
    "# from sklearn.preprocessing import LabelEncoder\n",
    "# from sklearn.preprocessing import OneHotEncoder\n",
    "# from numpy.linalg import inv\n",
    "# import pdpbox\n",
    "# from pdpbox import pdp\n",
    "# from pdpbox.info_plots import target_plot\n",
    "\n",
    "from statsmodels.multivariate.manova import MANOVA\n",
    "from datetime import date, timedelta\n",
    "\n",
    "from sklearn.preprocessing import LabelEncoder\n",
    "from sklearn.preprocessing import OneHotEncoder\n",
    "from sklearn.metrics import confusion_matrix \n",
    "from sklearn.model_selection import train_test_split \n",
    "from sklearn.tree import DecisionTreeClassifier \n",
    "from sklearn.metrics import accuracy_score \n",
    "from sklearn.metrics import classification_report\n",
    "from sklearn.tree.export import export_text"
   ]
  },
  {
   "cell_type": "code",
   "execution_count": 99,
   "metadata": {},
   "outputs": [],
   "source": [
    "dt = pd.read_csv('employee_retention_data.csv',parse_dates=['join_date','quit_date'])"
   ]
  },
  {
   "cell_type": "code",
   "execution_count": 35,
   "metadata": {},
   "outputs": [
    {
     "data": {
      "text/html": [
       "<div>\n",
       "<style scoped>\n",
       "    .dataframe tbody tr th:only-of-type {\n",
       "        vertical-align: middle;\n",
       "    }\n",
       "\n",
       "    .dataframe tbody tr th {\n",
       "        vertical-align: top;\n",
       "    }\n",
       "\n",
       "    .dataframe thead th {\n",
       "        text-align: right;\n",
       "    }\n",
       "</style>\n",
       "<table border=\"1\" class=\"dataframe\">\n",
       "  <thead>\n",
       "    <tr style=\"text-align: right;\">\n",
       "      <th></th>\n",
       "      <th>employee_id</th>\n",
       "      <th>company_id</th>\n",
       "      <th>dept</th>\n",
       "      <th>seniority</th>\n",
       "      <th>salary</th>\n",
       "      <th>join_date</th>\n",
       "      <th>quit_date</th>\n",
       "    </tr>\n",
       "  </thead>\n",
       "  <tbody>\n",
       "    <tr>\n",
       "      <th>0</th>\n",
       "      <td>13021.0</td>\n",
       "      <td>7</td>\n",
       "      <td>customer_service</td>\n",
       "      <td>28</td>\n",
       "      <td>89000.0</td>\n",
       "      <td>2014-03-24</td>\n",
       "      <td>2015-10-30</td>\n",
       "    </tr>\n",
       "    <tr>\n",
       "      <th>1</th>\n",
       "      <td>825355.0</td>\n",
       "      <td>7</td>\n",
       "      <td>marketing</td>\n",
       "      <td>20</td>\n",
       "      <td>183000.0</td>\n",
       "      <td>2013-04-29</td>\n",
       "      <td>2014-04-04</td>\n",
       "    </tr>\n",
       "    <tr>\n",
       "      <th>2</th>\n",
       "      <td>927315.0</td>\n",
       "      <td>4</td>\n",
       "      <td>marketing</td>\n",
       "      <td>14</td>\n",
       "      <td>101000.0</td>\n",
       "      <td>2014-10-13</td>\n",
       "      <td>NaT</td>\n",
       "    </tr>\n",
       "    <tr>\n",
       "      <th>3</th>\n",
       "      <td>662910.0</td>\n",
       "      <td>7</td>\n",
       "      <td>customer_service</td>\n",
       "      <td>20</td>\n",
       "      <td>115000.0</td>\n",
       "      <td>2012-05-14</td>\n",
       "      <td>2013-06-07</td>\n",
       "    </tr>\n",
       "    <tr>\n",
       "      <th>4</th>\n",
       "      <td>256971.0</td>\n",
       "      <td>2</td>\n",
       "      <td>data_science</td>\n",
       "      <td>23</td>\n",
       "      <td>276000.0</td>\n",
       "      <td>2011-10-17</td>\n",
       "      <td>2014-08-22</td>\n",
       "    </tr>\n",
       "  </tbody>\n",
       "</table>\n",
       "</div>"
      ],
      "text/plain": [
       "   employee_id  company_id              dept  seniority    salary  join_date  \\\n",
       "0      13021.0           7  customer_service         28   89000.0 2014-03-24   \n",
       "1     825355.0           7         marketing         20  183000.0 2013-04-29   \n",
       "2     927315.0           4         marketing         14  101000.0 2014-10-13   \n",
       "3     662910.0           7  customer_service         20  115000.0 2012-05-14   \n",
       "4     256971.0           2      data_science         23  276000.0 2011-10-17   \n",
       "\n",
       "   quit_date  \n",
       "0 2015-10-30  \n",
       "1 2014-04-04  \n",
       "2        NaT  \n",
       "3 2013-06-07  \n",
       "4 2014-08-22  "
      ]
     },
     "execution_count": 35,
     "metadata": {},
     "output_type": "execute_result"
    }
   ],
   "source": [
    "dt.head()"
   ]
  },
  {
   "cell_type": "markdown",
   "metadata": {},
   "source": [
    "## Headcount Estimate"
   ]
  },
  {
   "cell_type": "code",
   "execution_count": 7,
   "metadata": {},
   "outputs": [],
   "source": [
    "now_date = date(2011, 1, 24)\n",
    "end_date = date(2015, 12, 31)"
   ]
  },
  {
   "cell_type": "code",
   "execution_count": 8,
   "metadata": {},
   "outputs": [],
   "source": [
    "sub_cnt = dt[dt['join_date']<=now_date]\n",
    "cnt_company = pd.DataFrame(sub_cnt.groupby('company_id')['company_id'].count())\n",
    "sub_quit = sub_cnt[(sub_cnt['quit_date'].isna())|(sub_cnt['quit_date']>now_date)]\n",
    "quit_company = pd.DataFrame(sub_quit.groupby('company_id')['company_id'].count())\n",
    "hc = cnt_company-quit_company\n",
    "hc.columns=['employee_headcount']\n",
    "hc['company_id']=hc.index\n",
    "hc['date'] = now_date"
   ]
  },
  {
   "cell_type": "code",
   "execution_count": 9,
   "metadata": {},
   "outputs": [],
   "source": [
    "delta = timedelta(days=1)\n",
    "while now_date <= end_date:\n",
    "    now_date += delta\n",
    "    sub_cnt = dt[dt['join_date']<=now_date]\n",
    "    cnt_company = pd.DataFrame(sub_cnt.groupby('company_id')['company_id'].count())\n",
    "    sub_quit = sub_cnt[(sub_cnt['quit_date'].isna())|(sub_cnt['quit_date']>now_date)]\n",
    "    quit_company = pd.DataFrame(sub_quit.groupby('company_id')['company_id'].count())\n",
    "    hc1 = cnt_company-quit_company\n",
    "    hc1.columns=['employee_headcount']\n",
    "    hc1['company_id']=hc1.index\n",
    "    hc1['date'] = now_date\n",
    "    hc = pd.concat([hc,hc1])"
   ]
  },
  {
   "cell_type": "code",
   "execution_count": 10,
   "metadata": {},
   "outputs": [
    {
     "data": {
      "text/plain": [
       "(21563, 3)"
      ]
     },
     "execution_count": 10,
     "metadata": {},
     "output_type": "execute_result"
    }
   ],
   "source": [
    "hc.shape"
   ]
  },
  {
   "cell_type": "markdown",
   "metadata": {},
   "source": [
    "## Variable Check"
   ]
  },
  {
   "cell_type": "markdown",
   "metadata": {},
   "source": [
    "To find out the useful variable, I would build a decision tree and check the nodes. Before building the model, I would create one more column in case of the cohort effect.\n",
    "Also, I will check whether the variables are independent after creating the new working_time variable."
   ]
  },
  {
   "cell_type": "markdown",
   "metadata": {},
   "source": [
    "### Create Cohort Effect Variable"
   ]
  },
  {
   "cell_type": "markdown",
   "metadata": {},
   "source": [
    "### Check the multual independence between variables"
   ]
  },
  {
   "cell_type": "markdown",
   "metadata": {},
   "source": [
    "Need to read the book first...."
   ]
  },
  {
   "cell_type": "code",
   "execution_count": null,
   "metadata": {},
   "outputs": [],
   "source": []
  },
  {
   "cell_type": "code",
   "execution_count": null,
   "metadata": {},
   "outputs": [],
   "source": []
  },
  {
   "cell_type": "code",
   "execution_count": null,
   "metadata": {},
   "outputs": [],
   "source": []
  },
  {
   "cell_type": "markdown",
   "metadata": {},
   "source": [
    "## Decision Tree"
   ]
  },
  {
   "cell_type": "code",
   "execution_count": 100,
   "metadata": {},
   "outputs": [],
   "source": [
    "dt['quit_or_not'] = dt['quit_date'].isna()"
   ]
  },
  {
   "cell_type": "code",
   "execution_count": 101,
   "metadata": {},
   "outputs": [],
   "source": [
    "dt1 = dt.fillna( max(dt['quit_date'])+ pd.to_timedelta(23, unit='d'))"
   ]
  },
  {
   "cell_type": "code",
   "execution_count": 102,
   "metadata": {},
   "outputs": [],
   "source": [
    "dt1['wrk_time'] = dt1['quit_date']-dt1['join_date']"
   ]
  },
  {
   "cell_type": "code",
   "execution_count": 103,
   "metadata": {},
   "outputs": [
    {
     "data": {
      "text/html": [
       "<div>\n",
       "<style scoped>\n",
       "    .dataframe tbody tr th:only-of-type {\n",
       "        vertical-align: middle;\n",
       "    }\n",
       "\n",
       "    .dataframe tbody tr th {\n",
       "        vertical-align: top;\n",
       "    }\n",
       "\n",
       "    .dataframe thead th {\n",
       "        text-align: right;\n",
       "    }\n",
       "</style>\n",
       "<table border=\"1\" class=\"dataframe\">\n",
       "  <thead>\n",
       "    <tr style=\"text-align: right;\">\n",
       "      <th></th>\n",
       "      <th>employee_id</th>\n",
       "      <th>company_id</th>\n",
       "      <th>dept</th>\n",
       "      <th>seniority</th>\n",
       "      <th>salary</th>\n",
       "      <th>join_date</th>\n",
       "      <th>quit_date</th>\n",
       "      <th>quit_or_not</th>\n",
       "      <th>wrk_time</th>\n",
       "    </tr>\n",
       "  </thead>\n",
       "  <tbody>\n",
       "    <tr>\n",
       "      <th>0</th>\n",
       "      <td>13021.0</td>\n",
       "      <td>7</td>\n",
       "      <td>customer_service</td>\n",
       "      <td>28</td>\n",
       "      <td>89000.0</td>\n",
       "      <td>2014-03-24</td>\n",
       "      <td>2015-10-30</td>\n",
       "      <td>False</td>\n",
       "      <td>585 days</td>\n",
       "    </tr>\n",
       "    <tr>\n",
       "      <th>1</th>\n",
       "      <td>825355.0</td>\n",
       "      <td>7</td>\n",
       "      <td>marketing</td>\n",
       "      <td>20</td>\n",
       "      <td>183000.0</td>\n",
       "      <td>2013-04-29</td>\n",
       "      <td>2014-04-04</td>\n",
       "      <td>False</td>\n",
       "      <td>340 days</td>\n",
       "    </tr>\n",
       "    <tr>\n",
       "      <th>2</th>\n",
       "      <td>927315.0</td>\n",
       "      <td>4</td>\n",
       "      <td>marketing</td>\n",
       "      <td>14</td>\n",
       "      <td>101000.0</td>\n",
       "      <td>2014-10-13</td>\n",
       "      <td>2016-01-01</td>\n",
       "      <td>True</td>\n",
       "      <td>445 days</td>\n",
       "    </tr>\n",
       "    <tr>\n",
       "      <th>3</th>\n",
       "      <td>662910.0</td>\n",
       "      <td>7</td>\n",
       "      <td>customer_service</td>\n",
       "      <td>20</td>\n",
       "      <td>115000.0</td>\n",
       "      <td>2012-05-14</td>\n",
       "      <td>2013-06-07</td>\n",
       "      <td>False</td>\n",
       "      <td>389 days</td>\n",
       "    </tr>\n",
       "    <tr>\n",
       "      <th>4</th>\n",
       "      <td>256971.0</td>\n",
       "      <td>2</td>\n",
       "      <td>data_science</td>\n",
       "      <td>23</td>\n",
       "      <td>276000.0</td>\n",
       "      <td>2011-10-17</td>\n",
       "      <td>2014-08-22</td>\n",
       "      <td>False</td>\n",
       "      <td>1040 days</td>\n",
       "    </tr>\n",
       "  </tbody>\n",
       "</table>\n",
       "</div>"
      ],
      "text/plain": [
       "   employee_id  company_id              dept  seniority    salary  join_date  \\\n",
       "0      13021.0           7  customer_service         28   89000.0 2014-03-24   \n",
       "1     825355.0           7         marketing         20  183000.0 2013-04-29   \n",
       "2     927315.0           4         marketing         14  101000.0 2014-10-13   \n",
       "3     662910.0           7  customer_service         20  115000.0 2012-05-14   \n",
       "4     256971.0           2      data_science         23  276000.0 2011-10-17   \n",
       "\n",
       "   quit_date  quit_or_not  wrk_time  \n",
       "0 2015-10-30        False  585 days  \n",
       "1 2014-04-04        False  340 days  \n",
       "2 2016-01-01         True  445 days  \n",
       "3 2013-06-07        False  389 days  \n",
       "4 2014-08-22        False 1040 days  "
      ]
     },
     "execution_count": 103,
     "metadata": {},
     "output_type": "execute_result"
    }
   ],
   "source": [
    "dt1.head()"
   ]
  },
  {
   "cell_type": "code",
   "execution_count": 104,
   "metadata": {},
   "outputs": [],
   "source": [
    "dt1 = pd.get_dummies(dt1, prefix_sep=\"__\",columns=['dept'])\n"
   ]
  },
  {
   "cell_type": "code",
   "execution_count": 105,
   "metadata": {},
   "outputs": [],
   "source": [
    "dt1['join_date_int'] = dt1['join_date'].astype(int)/ 10**15\n",
    "#dt1['quit_date_int'] = dt1['quit_date'].astype(int)/ 10**15\n",
    "dt1['wrk_time_int'] = dt1['wrk_time'].dt.days"
   ]
  },
  {
   "cell_type": "code",
   "execution_count": 106,
   "metadata": {},
   "outputs": [
    {
     "data": {
      "text/plain": [
       "(24702, 16)"
      ]
     },
     "execution_count": 106,
     "metadata": {},
     "output_type": "execute_result"
    }
   ],
   "source": [
    "dt1.shape"
   ]
  },
  {
   "cell_type": "code",
   "execution_count": 107,
   "metadata": {},
   "outputs": [],
   "source": [
    "a = list(range(4))+list(range(8,16))\n",
    "X = dt1.iloc[:,a]\n",
    "Y = dt1.iloc[:,6]\n",
    "X_train, X_test, y_train, y_test = train_test_split(X, Y, test_size = 0.3, random_state = 1) "
   ]
  },
  {
   "cell_type": "code",
   "execution_count": 108,
   "metadata": {},
   "outputs": [
    {
     "data": {
      "text/plain": [
       "DecisionTreeClassifier(class_weight=None, criterion='gini', max_depth=3,\n",
       "                       max_features=None, max_leaf_nodes=None,\n",
       "                       min_impurity_decrease=0.0, min_impurity_split=None,\n",
       "                       min_samples_leaf=5, min_samples_split=2,\n",
       "                       min_weight_fraction_leaf=0.0, presort=False,\n",
       "                       random_state=1, splitter='best')"
      ]
     },
     "execution_count": 108,
     "metadata": {},
     "output_type": "execute_result"
    }
   ],
   "source": [
    "clf_gini = DecisionTreeClassifier(criterion = \"gini\", \n",
    "            random_state = 1,max_depth=3, min_samples_leaf=5)\n",
    "clf_gini.fit(X_train, y_train)"
   ]
  },
  {
   "cell_type": "code",
   "execution_count": 112,
   "metadata": {},
   "outputs": [
    {
     "data": {
      "text/plain": [
       "array([[3704,  392],\n",
       "       [ 273, 3042]])"
      ]
     },
     "execution_count": 112,
     "metadata": {},
     "output_type": "execute_result"
    }
   ],
   "source": [
    "y_pred = clf_gini.predict(X_test) \n",
    "confusion_matrix(y_test, y_pred)"
   ]
  },
  {
   "cell_type": "code",
   "execution_count": 113,
   "metadata": {},
   "outputs": [
    {
     "data": {
      "text/plain": [
       "91.02685197679125"
      ]
     },
     "execution_count": 113,
     "metadata": {},
     "output_type": "execute_result"
    }
   ],
   "source": [
    "accuracy_score(y_test,y_pred)*100"
   ]
  },
  {
   "cell_type": "code",
   "execution_count": 114,
   "metadata": {},
   "outputs": [
    {
     "data": {
      "text/plain": [
       "'              precision    recall  f1-score   support\\n\\n       False       0.93      0.90      0.92      4096\\n        True       0.89      0.92      0.90      3315\\n\\n    accuracy                           0.91      7411\\n   macro avg       0.91      0.91      0.91      7411\\nweighted avg       0.91      0.91      0.91      7411\\n'"
      ]
     },
     "execution_count": 114,
     "metadata": {},
     "output_type": "execute_result"
    }
   ],
   "source": [
    "classification_report(y_test, y_pred)"
   ]
  },
  {
   "cell_type": "code",
   "execution_count": 116,
   "metadata": {},
   "outputs": [
    {
     "data": {
      "text/plain": [
       "0.453080722208728"
      ]
     },
     "execution_count": 116,
     "metadata": {},
     "output_type": "execute_result"
    }
   ],
   "source": [
    "sum(dt['quit_or_not'])/dt.shape[0]"
   ]
  },
  {
   "cell_type": "code",
   "execution_count": 120,
   "metadata": {},
   "outputs": [
    {
     "data": {
      "text/plain": [
       "array([0.       , 0.       , 0.       , 0.       , 0.       , 0.       ,\n",
       "       0.       , 0.       , 0.       , 0.       , 0.6639034, 0.3360966])"
      ]
     },
     "execution_count": 120,
     "metadata": {},
     "output_type": "execute_result"
    }
   ],
   "source": [
    "clf_gini.feature_importances_"
   ]
  },
  {
   "cell_type": "code",
   "execution_count": 127,
   "metadata": {},
   "outputs": [
    {
     "name": "stdout",
     "output_type": "stream",
     "text": [
      "Object `feature_importances_` not found.\n"
     ]
    }
   ],
   "source": [
    "export_text(clf_gini, feature_names=)"
   ]
  },
  {
   "cell_type": "code",
   "execution_count": 124,
   "metadata": {},
   "outputs": [
    {
     "data": {
      "text/plain": [
       "[Text(141.64615384615385, 190.26, 'X[10] <= 1387.195\\nentropy = 0.496\\nsamples = 17291\\nvalue = [9414, 7877]'),\n",
       " Text(51.50769230769231, 135.9, 'X[11] <= 745.5\\nentropy = 0.342\\nsamples = 10318\\nvalue = [8062, 2256]'),\n",
       " Text(25.753846153846155, 81.53999999999999, 'entropy = 0.0\\nsamples = 5301\\nvalue = [5301, 0]'),\n",
       " Text(77.26153846153846, 81.53999999999999, 'X[10] <= 1346.069\\nentropy = 0.495\\nsamples = 5017\\nvalue = [2761, 2256]'),\n",
       " Text(51.50769230769231, 27.180000000000007, 'entropy = 0.335\\nsamples = 2714\\nvalue = [2137, 577]'),\n",
       " Text(103.01538461538462, 27.180000000000007, 'entropy = 0.395\\nsamples = 2303\\nvalue = [624, 1679]'),\n",
       " Text(231.7846153846154, 135.9, 'X[10] <= 1418.04\\nentropy = 0.313\\nsamples = 6973\\nvalue = [1352, 5621]'),\n",
       " Text(180.27692307692308, 81.53999999999999, 'X[11] <= 395.5\\nentropy = 0.471\\nsamples = 3393\\nvalue = [1291, 2102]'),\n",
       " Text(154.52307692307693, 27.180000000000007, 'entropy = 0.078\\nsamples = 1027\\nvalue = [985, 42]'),\n",
       " Text(206.03076923076924, 27.180000000000007, 'entropy = 0.225\\nsamples = 2366\\nvalue = [306, 2060]'),\n",
       " Text(283.2923076923077, 81.53999999999999, 'X[10] <= 1421.064\\nentropy = 0.033\\nsamples = 3580\\nvalue = [61, 3519]'),\n",
       " Text(257.53846153846155, 27.180000000000007, 'entropy = 0.23\\nsamples = 347\\nvalue = [46, 301]'),\n",
       " Text(309.04615384615386, 27.180000000000007, 'entropy = 0.009\\nsamples = 3233\\nvalue = [15, 3218]')]"
      ]
     },
     "execution_count": 124,
     "metadata": {},
     "output_type": "execute_result"
    },
    {
     "data": {
      "image/png": "[encoded data removed]",
      "text/plain": [
       "<Figure size 432x288 with 1 Axes>"
      ]
     },
     "metadata": {
      "needs_background": "light"
     },
     "output_type": "display_data"
    }
   ],
   "source": [
    "tree.plot_tree(clf_gini) "
   ]
  },
  {
   "cell_type": "markdown",
   "metadata": {},
   "source": [
    "# Note"
   ]
  },
  {
   "cell_type": "markdown",
   "metadata": {},
   "source": [
    "## Common Model\n",
    "Decision Trees (rpart)\n",
    "Boosted Models (adaboost)\n",
    "Random Forests (rf)\n",
    "Support Vactor Models (svm)\n",
    "Linear Models (glm)\n",
    "\n",
    "## Common Goal\n",
    "\n",
    "\n",
    "## Good Practices\n",
    "1. Predicting and preventing turnover at HP\n",
    " By using predictive models, they generated what they called a “Flight Risk” score. This score predicted the likelihood of leaving of each of HP’s 300,000 plus employees. Based on the data, they could see why employees would leave HP. Higher pay, promotions, and better performance ratings where, for instance, negatively related to flight risk. The system exerts pressure on managers to develop strategies to retain their staff. This helps to reduce costs and maintain business continuity.\n",
    " \n",
    "2. Predicting hire success at Google\n",
    "The questions interviewees get asked in Google’s hiring process are all fully automated, computer-generated, and fine-tuned in order to find the best candidate. There are a lot of other relevant metrics in recruiting that you should keep track of to see whether you’re hiring the right people. These include advanced metrics like time to productivity and cost of getting to optimum productivity level.\n",
    "\n",
    "3. Predicting revenue using engagement numbers at BestBuy\n",
    "They analyzed their data and found that a 0.1 percentage point increase in engagement leads to a $100,000 increase in revenue per store.\n",
    "\n",
    "4. Wikipedia\n",
    "Wikipedia is able to predict who of its 750,000 editors is most likely to stop contributing.\n",
    "\n",
    "5. Making better hiring decisions using Facebook\n",
    "A study revealed that it is possible to predict someone’s personality and future work performance based on their Facebook profile (Kluemper, Rosen & Mossholder, 2012). These ratings predicted 8% of manager-rated job performance for these people.\n",
    "\n",
    "6. Predicting impact at Nielsen\n",
    "The People Analytics team learned that every one percentage point decrease in attrition resulted in a $5 million reduction of business cost. Through different initiatives aimed at reducing turnover, the team was able to reduce attrition by two percentage points for the global enterprise, resulting in a $10 million reduction of cost.\n",
    "\n",
    "7. Never hire toxic people by Cornerstone\n",
    "Cornerstone proved that hiring a toxic employee will cost the employer $12,800 on average, versus an average of $4,000 for a non-toxic employee. This excludes the long-term (and costly) productivity loss through burnout and other negative effects. By fine-tuning the hiring process, companies can prevent hiring candidates who are likely to become toxic and create a healthier working environment."
   ]
  },
  {
   "cell_type": "code",
   "execution_count": null,
   "metadata": {},
   "outputs": [],
   "source": []
  }
 ],
 "metadata": {
  "kernelspec": {
   "display_name": "Python 3",
   "language": "python",
   "name": "python3"
  },
  "language_info": {
   "codemirror_mode": {
    "name": "ipython",
    "version": 3
   },
   "file_extension": ".py",
   "mimetype": "text/x-python",
   "name": "python",
   "nbconvert_exporter": "python",
   "pygments_lexer": "ipython3",
   "version": "3.7.3"
  }
 },
 "nbformat": 4,
 "nbformat_minor": 4
}
