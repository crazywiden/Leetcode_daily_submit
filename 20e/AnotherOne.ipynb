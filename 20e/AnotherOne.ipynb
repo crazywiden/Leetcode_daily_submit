{
 "cells": [
  {
   "cell_type": "markdown",
   "metadata": {},
   "source": [
    "# The connection between public record and loan performance"
   ]
  },
  {
   "cell_type": "markdown",
   "metadata": {},
   "source": [
    "## Excutive Summary\n",
    "\n",
    "### Goal\n",
    "\n",
    "### Background\n",
    "\n",
    "\n",
    "## Analysis\n",
    "\n",
    "### Data\n",
    "#### Public Records\n",
    "\n",
    "There are 14 columns in this dataset. The descriptions for each columns are as follows:\n",
    "\n",
    "Analytics Matchkey(analytics_matchkey): Unique customer identifier\n",
    "\n",
    "Industry Code (Kind of Business, industry_code_kind_of_business): A code used to categorize subscribers by their primary line of business (e.g. A=Automotive, B=Banks and S&Ls).  The second position of the code further describes kind of business. \n",
    "\n",
    "Reporting Subscriber Code(reporting_subscriber_code): Internal trade line identifier.  The first 4 bytes are the base code, the last 3 bytes are the suffix.\n",
    "\n",
    "Public Record Type Code(public_record_type_code): Identifies the type of public record.  \n",
    "\n",
    "Effective Date (Date Verified, effective_date_date_verified): Date when the Reporting Subscriber took cognizance of the Record in its files.\n",
    "\n",
    "Filed Date(filed_date): Date when the Record became officially public.\n",
    "\n",
    "Paid Date(paid_date): Displays the date the subject paid the assessed amount.\n",
    "\n",
    "Amount(amount): Displays the original amount in the case.\n",
    "\n",
    "Public Record Source Type Code(public_record_source_type_code): Identifies the source (court) of this case information.  \n",
    "\n",
    "Equal Credit Opportunity Act Code(equal_credit_opportunity_act_code): Displays the contractual ownership of the public record.  \n",
    "\n",
    "Legislative Prohibited Code(legislative_prohibited_code): Identifies if the account is Medical related.   \n",
    "\n",
    "Plaintiff Name: Plaintiff Name\n",
    "\n",
    "Attorney Name: Attorney Name\n",
    "\n",
    "Docket Number: Docket Number\n",
    "\n",
    "\n",
    "#### Loan Performance\n",
    "\n",
    "There are 5 columns in this dataset. The descriptions for each columns are as follows:\n",
    "\n",
    "Analytics Matchkey: Unique customer identifier\n",
    "\n",
    "Max Loan Amount: The amount of the loan given\n",
    "\n",
    "Late 30 Days: Indicates if a loan was ever delinquent by at least 30 days in 24 months.\n",
    "\n",
    "Late 60 Days: Indicates if a loan was ever delinquent by at least 60 days in 24 months.\n",
    "\n",
    "Late 90 Days: Indicates if a loan was ever delinquent by at least 90 days in 24 months.\n",
    "\n",
    "### Methdology\n",
    "\n",
    "## Findings\n",
    "\n",
    "### Final results\n",
    "\n",
    "### Future works\n",
    "\n",
    "### Recommendations"
   ]
  },
  {
   "cell_type": "markdown",
   "metadata": {},
   "source": [
    "## Analysis Process\n",
    "\n",
    "### Exploratory Data Analysis"
   ]
  },
  {
   "cell_type": "markdown",
   "metadata": {},
   "source": [
    "According to the rudimentary exploration on the whole dataset:\n",
    "\n",
    "1. 1 unique identifier for customer: there are 83586 repeated analytics_matchkey's, which means there are some customers who have more than 1 loan with our company.\n",
    "\n",
    "2. 6 categorical columns:'industry_code_kind_of_business','reporting_subscriber_code', 'public_record_type_code', 'public_record_source_type_code', 'equal_credit_opportunity_act_code', 'legislative_prohibited_code'. I might not change the data types of these columns since this wouldn't affect my analysis. For 'public_record_type_code' I am going to bin together the classes whose sizes are too small(less than 30).\n",
    "\n",
    "3. 1 numerical columns: 'amount'\n",
    "\n",
    "4. 3 datetime columns: 'effective_date_date_verified','filed_date', 'paid_date'. I might consider binning these variables to make the trend more noticeable.\n",
    "\n",
    "5. 3 columns 'plaintiff_name', 'attorney_name','docket_number' contain no information and these columns will be removed.\n",
    "\n",
    "6. columns 'effective_date_date_verified', 'paid_date','amount','public_record_source_type_code' have missing data. Among these columns, there is only 1 missing value in 'public_record_source_type_code', it is very likely that this can be a typo. For the datetime columns, I will create binary variables indicating if a given loan went through a certain step(filed/paid/verified). For the missing value in 'public_record_source_type_code', I might just leave it there.\n",
    "\n",
    "7. By now, about 60% of loans have paid the assessed amount.\n",
    "\n",
    "8. More than 70% of loans have the information of the original amount in the case."
   ]
  },
  {
   "cell_type": "code",
   "execution_count": 1,
   "metadata": {},
   "outputs": [],
   "source": [
    "%matplotlib inline\n",
    "import random\n",
    "import pandas as pd\n",
    "import numpy as np\n",
    "import scipy.stats as st\n",
    "from datetime import date, timedelta\n",
    "\n",
    "\n",
    "import pdpbox\n",
    "from pdpbox import pdp\n",
    "from pdpbox.info_plots import target_plot\n",
    "import seaborn as sns\n",
    "import matplotlib.pyplot as plt\n",
    "\n",
    "from sklearn.preprocessing import LabelEncoder\n",
    "from sklearn.preprocessing import OneHotEncoder\n",
    "from sklearn.metrics import confusion_matrix \n",
    "from sklearn.model_selection import train_test_split \n",
    "from sklearn.tree import DecisionTreeClassifier \n",
    "from sklearn.metrics import accuracy_score \n",
    "from sklearn.metrics import classification_report\n",
    "from sklearn.tree.export import export_text\n",
    "from sklearn.tree import plot_tree\n",
    "from sklearn import preprocessing\n",
    "from sklearn.discriminant_analysis import LinearDiscriminantAnalysis"
   ]
  },
  {
   "cell_type": "code",
   "execution_count": 2,
   "metadata": {},
   "outputs": [],
   "source": [
    "publicRecords = pd.read_csv('Public_records.csv',parse_dates=['effective_date_date_verified',\n",
    "                                                    'filed_date',\n",
    "                                                    'paid_date'])"
   ]
  },
  {
   "cell_type": "code",
   "execution_count": 3,
   "metadata": {},
   "outputs": [
    {
     "data": {
      "text/html": [
       "<div>\n",
       "<style scoped>\n",
       "    .dataframe tbody tr th:only-of-type {\n",
       "        vertical-align: middle;\n",
       "    }\n",
       "\n",
       "    .dataframe tbody tr th {\n",
       "        vertical-align: top;\n",
       "    }\n",
       "\n",
       "    .dataframe thead th {\n",
       "        text-align: right;\n",
       "    }\n",
       "</style>\n",
       "<table border=\"1\" class=\"dataframe\">\n",
       "  <thead>\n",
       "    <tr style=\"text-align: right;\">\n",
       "      <th></th>\n",
       "      <th>analytics_matchkey</th>\n",
       "      <th>industry_code_kind_of_business</th>\n",
       "      <th>reporting_subscriber_code</th>\n",
       "      <th>public_record_type_code</th>\n",
       "      <th>effective_date_date_verified</th>\n",
       "      <th>filed_date</th>\n",
       "      <th>paid_date</th>\n",
       "      <th>amount</th>\n",
       "      <th>public_record_source_type_code</th>\n",
       "      <th>equal_credit_opportunity_act_code</th>\n",
       "      <th>legislative_prohibited_code</th>\n",
       "      <th>plaintiff_name</th>\n",
       "      <th>attorney_name</th>\n",
       "      <th>docket_number</th>\n",
       "    </tr>\n",
       "  </thead>\n",
       "  <tbody>\n",
       "    <tr>\n",
       "      <th>0</th>\n",
       "      <td>1346747</td>\n",
       "      <td>ZP</td>\n",
       "      <td>99</td>\n",
       "      <td>CJ</td>\n",
       "      <td>2013-06-04</td>\n",
       "      <td>2013-01-29</td>\n",
       "      <td>NaT</td>\n",
       "      <td>1209.0</td>\n",
       "      <td>CI</td>\n",
       "      <td>I</td>\n",
       "      <td>1</td>\n",
       "      <td>NaN</td>\n",
       "      <td>NaN</td>\n",
       "      <td>NaN</td>\n",
       "    </tr>\n",
       "    <tr>\n",
       "      <th>1</th>\n",
       "      <td>1346748</td>\n",
       "      <td>ZP</td>\n",
       "      <td>485</td>\n",
       "      <td>7X</td>\n",
       "      <td>2014-09-25</td>\n",
       "      <td>2014-05-06</td>\n",
       "      <td>2014-09-24</td>\n",
       "      <td>NaN</td>\n",
       "      <td>FE</td>\n",
       "      <td>I</td>\n",
       "      <td>1</td>\n",
       "      <td>NaN</td>\n",
       "      <td>NaN</td>\n",
       "      <td>NaN</td>\n",
       "    </tr>\n",
       "    <tr>\n",
       "      <th>2</th>\n",
       "      <td>1346754</td>\n",
       "      <td>Z</td>\n",
       "      <td>11R</td>\n",
       "      <td>SL</td>\n",
       "      <td>2012-01-24</td>\n",
       "      <td>2011-04-05</td>\n",
       "      <td>NaT</td>\n",
       "      <td>2248.0</td>\n",
       "      <td>RD</td>\n",
       "      <td>I</td>\n",
       "      <td>1</td>\n",
       "      <td>NaN</td>\n",
       "      <td>NaN</td>\n",
       "      <td>NaN</td>\n",
       "    </tr>\n",
       "    <tr>\n",
       "      <th>3</th>\n",
       "      <td>1346754</td>\n",
       "      <td>ZP</td>\n",
       "      <td>1</td>\n",
       "      <td>7X</td>\n",
       "      <td>2013-01-29</td>\n",
       "      <td>2012-09-28</td>\n",
       "      <td>2013-01-28</td>\n",
       "      <td>NaN</td>\n",
       "      <td>FE</td>\n",
       "      <td>C</td>\n",
       "      <td>1</td>\n",
       "      <td>NaN</td>\n",
       "      <td>NaN</td>\n",
       "      <td>NaN</td>\n",
       "    </tr>\n",
       "    <tr>\n",
       "      <th>4</th>\n",
       "      <td>1346756</td>\n",
       "      <td>ZP</td>\n",
       "      <td>1</td>\n",
       "      <td>RL</td>\n",
       "      <td>2014-09-13</td>\n",
       "      <td>2007-02-02</td>\n",
       "      <td>2014-08-01</td>\n",
       "      <td>406.0</td>\n",
       "      <td>RD</td>\n",
       "      <td>I</td>\n",
       "      <td>1</td>\n",
       "      <td>NaN</td>\n",
       "      <td>NaN</td>\n",
       "      <td>NaN</td>\n",
       "    </tr>\n",
       "  </tbody>\n",
       "</table>\n",
       "</div>"
      ],
      "text/plain": [
       "   analytics_matchkey industry_code_kind_of_business  \\\n",
       "0             1346747                             ZP   \n",
       "1             1346748                             ZP   \n",
       "2             1346754                              Z   \n",
       "3             1346754                             ZP   \n",
       "4             1346756                             ZP   \n",
       "\n",
       "  reporting_subscriber_code public_record_type_code  \\\n",
       "0                        99                      CJ   \n",
       "1                       485                      7X   \n",
       "2                       11R                      SL   \n",
       "3                         1                      7X   \n",
       "4                         1                      RL   \n",
       "\n",
       "  effective_date_date_verified filed_date  paid_date  amount  \\\n",
       "0                   2013-06-04 2013-01-29        NaT  1209.0   \n",
       "1                   2014-09-25 2014-05-06 2014-09-24     NaN   \n",
       "2                   2012-01-24 2011-04-05        NaT  2248.0   \n",
       "3                   2013-01-29 2012-09-28 2013-01-28     NaN   \n",
       "4                   2014-09-13 2007-02-02 2014-08-01   406.0   \n",
       "\n",
       "  public_record_source_type_code equal_credit_opportunity_act_code  \\\n",
       "0                             CI                                 I   \n",
       "1                             FE                                 I   \n",
       "2                             RD                                 I   \n",
       "3                             FE                                 C   \n",
       "4                             RD                                 I   \n",
       "\n",
       "   legislative_prohibited_code  plaintiff_name  attorney_name  docket_number  \n",
       "0                            1             NaN            NaN            NaN  \n",
       "1                            1             NaN            NaN            NaN  \n",
       "2                            1             NaN            NaN            NaN  \n",
       "3                            1             NaN            NaN            NaN  \n",
       "4                            1             NaN            NaN            NaN  "
      ]
     },
     "execution_count": 3,
     "metadata": {},
     "output_type": "execute_result"
    }
   ],
   "source": [
    "publicRecords.head()"
   ]
  },
  {
   "cell_type": "code",
   "execution_count": 4,
   "metadata": {},
   "outputs": [
    {
     "data": {
      "text/html": [
       "<div>\n",
       "<style scoped>\n",
       "    .dataframe tbody tr th:only-of-type {\n",
       "        vertical-align: middle;\n",
       "    }\n",
       "\n",
       "    .dataframe tbody tr th {\n",
       "        vertical-align: top;\n",
       "    }\n",
       "\n",
       "    .dataframe thead th {\n",
       "        text-align: right;\n",
       "    }\n",
       "</style>\n",
       "<table border=\"1\" class=\"dataframe\">\n",
       "  <thead>\n",
       "    <tr style=\"text-align: right;\">\n",
       "      <th></th>\n",
       "      <th>analytics_matchkey</th>\n",
       "      <th>amount</th>\n",
       "      <th>legislative_prohibited_code</th>\n",
       "      <th>plaintiff_name</th>\n",
       "      <th>attorney_name</th>\n",
       "      <th>docket_number</th>\n",
       "    </tr>\n",
       "  </thead>\n",
       "  <tbody>\n",
       "    <tr>\n",
       "      <th>count</th>\n",
       "      <td>218303.0</td>\n",
       "      <td>156792.0</td>\n",
       "      <td>218303.0</td>\n",
       "      <td>0.0</td>\n",
       "      <td>0.0</td>\n",
       "      <td>0.0</td>\n",
       "    </tr>\n",
       "    <tr>\n",
       "      <th>mean</th>\n",
       "      <td>1669627.0</td>\n",
       "      <td>4617.0</td>\n",
       "      <td>1.0</td>\n",
       "      <td>NaN</td>\n",
       "      <td>NaN</td>\n",
       "      <td>NaN</td>\n",
       "    </tr>\n",
       "    <tr>\n",
       "      <th>std</th>\n",
       "      <td>186294.0</td>\n",
       "      <td>41801.0</td>\n",
       "      <td>0.0</td>\n",
       "      <td>NaN</td>\n",
       "      <td>NaN</td>\n",
       "      <td>NaN</td>\n",
       "    </tr>\n",
       "    <tr>\n",
       "      <th>min</th>\n",
       "      <td>1346747.0</td>\n",
       "      <td>0.0</td>\n",
       "      <td>1.0</td>\n",
       "      <td>NaN</td>\n",
       "      <td>NaN</td>\n",
       "      <td>NaN</td>\n",
       "    </tr>\n",
       "    <tr>\n",
       "      <th>25%</th>\n",
       "      <td>1508168.0</td>\n",
       "      <td>644.0</td>\n",
       "      <td>1.0</td>\n",
       "      <td>NaN</td>\n",
       "      <td>NaN</td>\n",
       "      <td>NaN</td>\n",
       "    </tr>\n",
       "    <tr>\n",
       "      <th>50%</th>\n",
       "      <td>1669451.0</td>\n",
       "      <td>1338.0</td>\n",
       "      <td>1.0</td>\n",
       "      <td>NaN</td>\n",
       "      <td>NaN</td>\n",
       "      <td>NaN</td>\n",
       "    </tr>\n",
       "    <tr>\n",
       "      <th>75%</th>\n",
       "      <td>1831498.0</td>\n",
       "      <td>3174.0</td>\n",
       "      <td>1.0</td>\n",
       "      <td>NaN</td>\n",
       "      <td>NaN</td>\n",
       "      <td>NaN</td>\n",
       "    </tr>\n",
       "    <tr>\n",
       "      <th>max</th>\n",
       "      <td>1992902.0</td>\n",
       "      <td>9999999.0</td>\n",
       "      <td>2.0</td>\n",
       "      <td>NaN</td>\n",
       "      <td>NaN</td>\n",
       "      <td>NaN</td>\n",
       "    </tr>\n",
       "  </tbody>\n",
       "</table>\n",
       "</div>"
      ],
      "text/plain": [
       "       analytics_matchkey     amount  legislative_prohibited_code  \\\n",
       "count            218303.0   156792.0                     218303.0   \n",
       "mean            1669627.0     4617.0                          1.0   \n",
       "std              186294.0    41801.0                          0.0   \n",
       "min             1346747.0        0.0                          1.0   \n",
       "25%             1508168.0      644.0                          1.0   \n",
       "50%             1669451.0     1338.0                          1.0   \n",
       "75%             1831498.0     3174.0                          1.0   \n",
       "max             1992902.0  9999999.0                          2.0   \n",
       "\n",
       "       plaintiff_name  attorney_name  docket_number  \n",
       "count             0.0            0.0            0.0  \n",
       "mean              NaN            NaN            NaN  \n",
       "std               NaN            NaN            NaN  \n",
       "min               NaN            NaN            NaN  \n",
       "25%               NaN            NaN            NaN  \n",
       "50%               NaN            NaN            NaN  \n",
       "75%               NaN            NaN            NaN  \n",
       "max               NaN            NaN            NaN  "
      ]
     },
     "execution_count": 4,
     "metadata": {},
     "output_type": "execute_result"
    }
   ],
   "source": [
    "publicRecords.describe().round()"
   ]
  },
  {
   "cell_type": "code",
   "execution_count": 5,
   "metadata": {},
   "outputs": [
    {
     "name": "stdout",
     "output_type": "stream",
     "text": [
      "<class 'pandas.core.frame.DataFrame'>\n",
      "RangeIndex: 218303 entries, 0 to 218302\n",
      "Data columns (total 14 columns):\n",
      "analytics_matchkey                   218303 non-null int64\n",
      "industry_code_kind_of_business       218303 non-null object\n",
      "reporting_subscriber_code            218303 non-null object\n",
      "public_record_type_code              218303 non-null object\n",
      "effective_date_date_verified         218018 non-null datetime64[ns]\n",
      "filed_date                           218303 non-null datetime64[ns]\n",
      "paid_date                            129421 non-null datetime64[ns]\n",
      "amount                               156792 non-null float64\n",
      "public_record_source_type_code       218302 non-null object\n",
      "equal_credit_opportunity_act_code    218303 non-null object\n",
      "legislative_prohibited_code          218303 non-null int64\n",
      "plaintiff_name                       0 non-null float64\n",
      "attorney_name                        0 non-null float64\n",
      "docket_number                        0 non-null float64\n",
      "dtypes: datetime64[ns](3), float64(4), int64(2), object(5)\n",
      "memory usage: 23.3+ MB\n"
     ]
    }
   ],
   "source": [
    "publicRecords.info()"
   ]
  },
  {
   "cell_type": "code",
   "execution_count": 123,
   "metadata": {},
   "outputs": [
    {
     "name": "stdout",
     "output_type": "stream",
     "text": [
      "0.59 of loans have paid the assessed amount.\n",
      "0.72 of loans have the information of the original amount in the case.\n"
     ]
    }
   ],
   "source": [
    "# check the proportion of loans have information of 'paid_date'(paid the assessed amount)\n",
    "print(round(129421/218303,2),'of loans have paid the assessed amount.')\n",
    "# check the proportion of loans have information of 'amount'(the original amount in the case)\n",
    "print(round(156792/218303,2),'of loans have the information of the original amount in the case.')"
   ]
  },
  {
   "cell_type": "code",
   "execution_count": 132,
   "metadata": {},
   "outputs": [
    {
     "data": {
      "text/plain": [
       "83586"
      ]
     },
     "execution_count": 132,
     "metadata": {},
     "output_type": "execute_result"
    }
   ],
   "source": [
    "# check whether 'analytics_matchkey' is unique\n",
    "publicRecords.shape[0] - len(set(publicRecords['analytics_matchkey']))"
   ]
  },
  {
   "cell_type": "code",
   "execution_count": 137,
   "metadata": {},
   "outputs": [],
   "source": [
    "# drop the columnns: 'plaintiff_name','attorney_name','docket_number'\n",
    "publicRecords = publicRecords.drop(['plaintiff_name','attorney_name','docket_number'], axis=1)"
   ]
  },
  {
   "cell_type": "code",
   "execution_count": 149,
   "metadata": {},
   "outputs": [
    {
     "name": "stdout",
     "output_type": "stream",
     "text": [
      "ZP    198571\n",
      "Z      19732\n",
      "Name: industry_code_kind_of_business, dtype: int64\n",
      "1      6075\n",
      "203    2533\n",
      "82     2502\n",
      "3      2454\n",
      "2      2356\n",
      "       ... \n",
      "08Q       1\n",
      "655       1\n",
      "13S       1\n",
      "02L       1\n",
      "02N       1\n",
      "Name: reporting_subscriber_code, Length: 1535, dtype: int64\n",
      "CJ    61425\n",
      "7X    49842\n",
      "PC    30449\n",
      "RL    20099\n",
      "SL    16205\n",
      "CB    10266\n",
      "FT     6511\n",
      "PL     6172\n",
      "3D     4356\n",
      "PF     3591\n",
      "3X     3500\n",
      "3F     2184\n",
      "TL     1764\n",
      "7D     1109\n",
      "7F      487\n",
      "CP      301\n",
      "1D       14\n",
      "1X       11\n",
      "TB        9\n",
      "2X        3\n",
      "2F        2\n",
      "2D        2\n",
      "1F        1\n",
      "Name: public_record_type_code, dtype: int64\n"
     ]
    }
   ],
   "source": [
    "# check the distribution of categorial variables:\n",
    "# 'industry_code_kind_of_business'\n",
    "# 'reporting_subscriber_code'           \n",
    "# 'public_record_type_code'              \n",
    "print(publicRecords['industry_code_kind_of_business'].value_counts())\n",
    "print(publicRecords['reporting_subscriber_code'].value_counts())\n",
    "print(publicRecords['public_record_type_code'].value_counts())"
   ]
  },
  {
   "cell_type": "code",
   "execution_count": 164,
   "metadata": {},
   "outputs": [],
   "source": [
    "# bin public_record_type_code: If there are less than 30 examples in a class\n",
    "to_replace_rsc = pd.DataFrame(publicRecords['public_record_type_code'].value_counts())\n",
    "to_replace_rs_list = to_replace_rsc[to_replace_rsc['public_record_type_code']<30].index.to_list()\n",
    "def rep_PRTC(x):\n",
    "    if x in to_replace_rs_list:\n",
    "        return 'other'\n",
    "    else: return x\n",
    "publicRecords['public_record_type_code_bin'] = publicRecords['public_record_type_code'].map(rep_PRTC)"
   ]
  },
  {
   "cell_type": "markdown",
   "metadata": {},
   "source": [
    "#### Hypothesis 1: The working process: filed_date => paid_date => effective_date_date_verified? "
   ]
  },
  {
   "cell_type": "markdown",
   "metadata": {},
   "source": [
    "Based on the distribution of difference between paid_date, filed_date and effective_date_date_verified, I have the following findings:\n",
    "\n",
    "1. Mostly(more than 93%), the whole process is that the loan is firstly get filed, then paid(if needed), then verified. The first step must be filing. Very rarely, verification happens before the corresponding payment. \n",
    "\n",
    "2. The time interval between filed date and paid date(if there is) tends to be around 1 year and it varies a lot. It took 60-119 days for more than 35% of loans to be paid after it was filed. More than 30% of loans took 119-475 days. More than 12% of loans took 475-950 days. More than 10% of loans took 950-1900 days. \n",
    "\n",
    "2. The time interval between paid date(if there is) and effective date tends to less than 50 days, including the situation that effective date happens before its payment, and 50% of loans only took 0-4 days to be verified after it was paid. The range of this intervel is from -2355 days to 3202 days. "
   ]
  },
  {
   "cell_type": "code",
   "execution_count": 118,
   "metadata": {},
   "outputs": [
    {
     "name": "stdout",
     "output_type": "stream",
     "text": [
      "0.9972 of the records with a paid_date, the filed_date happens before paid_date.\n",
      "0.0028 of the records with a paid_date, the filed_date happen on the same day as paid_date.\n",
      "0.0 of the records with a paid_date, the filed_date happens after paid_date.\n"
     ]
    }
   ],
   "source": [
    "# sub-hypothesis:\n",
    "# filed_date is always earlier than paid_date, if there is a paid_date for the given loan\n",
    "n_paid_date = publicRecords[~publicRecords['paid_date'].isna()].shape[0]\n",
    "n_filed_date = publicRecords[~publicRecords['filed_date'].isna()].shape[0]\n",
    "print(round(sum(publicRecords['filed_date']<publicRecords['paid_date'])/n_paid_date,4),'of the records with a paid_date, the filed_date happens before paid_date.')\n",
    "print(round(sum(publicRecords['filed_date']==publicRecords['paid_date'])/n_paid_date,4),'of the records with a paid_date, the filed_date happen on the same day as paid_date.')\n",
    "print(round(sum(publicRecords['filed_date']>publicRecords['paid_date'])/n_paid_date,4),'of the records with a paid_date, the filed_date happens after paid_date.')"
   ]
  },
  {
   "cell_type": "code",
   "execution_count": 7,
   "metadata": {},
   "outputs": [
    {
     "name": "stdout",
     "output_type": "stream",
     "text": [
      "0.9313 of the records with a paid_date, the paid_date happens before effective_date_date_verified.\n",
      "0.0004 of the records with a paid_date, the paid_date happens on the same day as effective_date_date_verified.\n",
      "0.0681 of the records with a paid_date, the paid_date happens after effective_date_date_verified.\n"
     ]
    }
   ],
   "source": [
    "# sub-hypothesis:\n",
    "# paid_date is always earlier than effective_date_date_verified, if there is a paid_date for the given loan\n",
    "print(round(sum(publicRecords['paid_date']<publicRecords['effective_date_date_verified'])/n_paid_date,4),'of the records with a paid_date, the paid_date happens before effective_date_date_verified.')\n",
    "print(round(sum(publicRecords['paid_date']==publicRecords['effective_date_date_verified'])/n_paid_date,4),'of the records with a paid_date, the paid_date happens on the same day as effective_date_date_verified.')\n",
    "print(round(sum(publicRecords['paid_date']>publicRecords['effective_date_date_verified'])/n_paid_date,4),'of the records with a paid_date, the paid_date happens after effective_date_date_verified.')"
   ]
  },
  {
   "cell_type": "code",
   "execution_count": 120,
   "metadata": {},
   "outputs": [
    {
     "name": "stdout",
     "output_type": "stream",
     "text": [
      "0.9951 of the records with a filed_date , the filed_date happens before effective_date_date_verified.\n",
      "0.0036 of the records with a filed_date, the filed_date happens on the same day as effective_date_date_verified.\n",
      "0.0 of the records with a filed_date, the filed_date happens after effective_date_date_verified.\n"
     ]
    }
   ],
   "source": [
    "# sub-hypothesis:\n",
    "# filed_date is always earlier than effective_date_date_verified, if there is a filed_date for the given loan\n",
    "print(round(sum(publicRecords['filed_date']<publicRecords['effective_date_date_verified'])/n_filed_date ,4),'of the records with a filed_date , the filed_date happens before effective_date_date_verified.')\n",
    "print(round(sum(publicRecords['filed_date']==publicRecords['effective_date_date_verified'])/n_filed_date ,4),'of the records with a filed_date, the filed_date happens on the same day as effective_date_date_verified.')\n",
    "print(round(sum(publicRecords['filed_date']>publicRecords['effective_date_date_verified'])/n_filed_date ,4),'of the records with a filed_date, the filed_date happens after effective_date_date_verified.')"
   ]
  },
  {
   "cell_type": "code",
   "execution_count": 8,
   "metadata": {},
   "outputs": [],
   "source": [
    "publicRecords['diff_paid_filed'] = publicRecords['paid_date']-publicRecords['filed_date']\n",
    "publicRecords['diff_effe_paid'] = publicRecords['effective_date_date_verified']-publicRecords['paid_date']"
   ]
  },
  {
   "cell_type": "code",
   "execution_count": 72,
   "metadata": {},
   "outputs": [
    {
     "name": "stdout",
     "output_type": "stream",
     "text": [
      "count    129421.000000\n",
      "mean        380.077623\n",
      "std         484.184294\n",
      "min           0.000000\n",
      "25%         100.000000\n",
      "50%         139.000000\n",
      "75%         461.000000\n",
      "max        3793.000000\n",
      "Name: diff_paid_filed_int, dtype: float64\n",
      "count    129407.000000\n",
      "mean         75.911774\n",
      "std         358.554891\n",
      "min       -2354.000000\n",
      "25%           1.000000\n",
      "50%           4.000000\n",
      "75%          49.000000\n",
      "max        3203.000000\n",
      "Name: diff_effe_paid_int, dtype: float64\n"
     ]
    }
   ],
   "source": [
    "publicRecords['diff_paid_filed_int'] = publicRecords['diff_paid_filed']/np.timedelta64(1, 'D')\n",
    "publicRecords['diff_effe_paid_int'] = publicRecords['diff_effe_paid']/np.timedelta64(1, 'D')\n",
    "print(publicRecords['diff_paid_filed_int'].describe())\n",
    "print(publicRecords['diff_effe_paid_int'].describe())"
   ]
  },
  {
   "cell_type": "code",
   "execution_count": 114,
   "metadata": {},
   "outputs": [
    {
     "data": {
      "text/plain": [
       "<matplotlib.axes._subplots.AxesSubplot at 0x1a30790e48>"
      ]
     },
     "execution_count": 114,
     "metadata": {},
     "output_type": "execute_result"
    },
    {
     "data": {
      "image/png": "[encoded data removed]",
      "text/plain": [
       "<Figure size 432x288 with 1 Axes>"
      ]
     },
     "metadata": {
      "needs_background": "light"
     },
     "output_type": "display_data"
    }
   ],
   "source": [
    "pd.cut(publicRecords[~publicRecords['diff_paid_filed_int'].isna()]['diff_paid_filed_int'], \n",
    "       bins=[0,60,119,238,475,950,1900,3794]).value_counts().sort_index().plot(kind='bar')"
   ]
  },
  {
   "cell_type": "code",
   "execution_count": 124,
   "metadata": {},
   "outputs": [
    {
     "data": {
      "text/plain": [
       "(60, 119]       0.358033\n",
       "(119, 238]      0.185889\n",
       "(238, 475]      0.135589\n",
       "(475, 950]      0.121734\n",
       "(950, 1900]     0.100926\n",
       "(0, 60]         0.073620\n",
       "(1900, 3794]    0.021418\n",
       "Name: diff_paid_filed_int, dtype: float64"
      ]
     },
     "execution_count": 124,
     "metadata": {},
     "output_type": "execute_result"
    }
   ],
   "source": [
    "pd.cut(publicRecords[~publicRecords['diff_paid_filed_int'].isna()]['diff_paid_filed_int'], \n",
    "       bins=[0,60,119,238,475,950,1900,3794]).value_counts()/n_paid_date"
   ]
  },
  {
   "cell_type": "code",
   "execution_count": 115,
   "metadata": {},
   "outputs": [
    {
     "data": {
      "text/plain": [
       "<matplotlib.axes._subplots.AxesSubplot at 0x1a30943550>"
      ]
     },
     "execution_count": 115,
     "metadata": {},
     "output_type": "execute_result"
    },
    {
     "data": {
      "image/png": "[encoded data removed]",
      "text/plain": [
       "<Figure size 432x288 with 1 Axes>"
      ]
     },
     "metadata": {
      "needs_background": "light"
     },
     "output_type": "display_data"
    }
   ],
   "source": [
    "pd.cut(publicRecords[~publicRecords['diff_effe_paid_int'].isna()]['diff_effe_paid_int'], \n",
    "       bins=[-2355,-1200,-600,-300,-150,-75,0,50,100,200,400,800,1600,3203]).value_counts().sort_index().plot(kind='bar')"
   ]
  },
  {
   "cell_type": "code",
   "execution_count": 125,
   "metadata": {},
   "outputs": [
    {
     "data": {
      "text/plain": [
       "(0, 50]           0.685638\n",
       "(50, 100]         0.069131\n",
       "(100, 200]        0.053593\n",
       "(200, 400]        0.043733\n",
       "(400, 800]        0.038665\n",
       "(800, 1600]       0.029632\n",
       "(-1200, -600]     0.014070\n",
       "(-600, -300]      0.013661\n",
       "(-75, 0]          0.012826\n",
       "(-300, -150]      0.011142\n",
       "(1600, 3203]      0.010941\n",
       "(-150, -75]       0.010052\n",
       "(-2355, -1200]    0.006807\n",
       "Name: diff_effe_paid_int, dtype: float64"
      ]
     },
     "execution_count": 125,
     "metadata": {},
     "output_type": "execute_result"
    }
   ],
   "source": [
    "pd.cut(publicRecords[~publicRecords['diff_effe_paid_int'].isna()]['diff_effe_paid_int'], \n",
    "       bins=[-2355,-1200,-600,-300,-150,-75,0,50,100,200,400,800,1600,3203]).value_counts()/n_paid_date"
   ]
  },
  {
   "cell_type": "code",
   "execution_count": 128,
   "metadata": {},
   "outputs": [
    {
     "data": {
      "text/plain": [
       "0.9153151343290502"
      ]
     },
     "execution_count": 128,
     "metadata": {},
     "output_type": "execute_result"
    }
   ],
   "source": [
    "publicRecords[publicRecords['diff_effe_paid_int']<366]['diff_effe_paid_int'].count()/n_paid_date"
   ]
  },
  {
   "cell_type": "code",
   "execution_count": 116,
   "metadata": {},
   "outputs": [
    {
     "data": {
      "text/plain": [
       "<matplotlib.axes._subplots.AxesSubplot at 0x1a308785c0>"
      ]
     },
     "execution_count": 116,
     "metadata": {},
     "output_type": "execute_result"
    },
    {
     "data": {
      "image/png": "[encoded data removed]",
      "text/plain": [
       "<Figure size 432x288 with 1 Axes>"
      ]
     },
     "metadata": {
      "needs_background": "light"
     },
     "output_type": "display_data"
    }
   ],
   "source": [
    "pd.cut(publicRecords[publicRecords['diff_effe_paid_int']<0]['diff_effe_paid_int'], \n",
    "       bins=[-2355,-1200,-600,-300,-150,0]).value_counts().sort_index().plot(kind='bar')"
   ]
  },
  {
   "cell_type": "code",
   "execution_count": 139,
   "metadata": {},
   "outputs": [],
   "source": [
    "publicRecords['diff_paid_filed_bin'] = pd.cut(publicRecords['diff_paid_filed_int'], \n",
    "       bins=[0,60,119,238,475,950,3794])\n",
    "publicRecords['diff_effe_paid_bin'] = pd.cut(publicRecords['diff_effe_paid_int'], \n",
    "       bins=[-2355,0,50,100,200,400,800,3203])"
   ]
  },
  {
   "cell_type": "code",
   "execution_count": 141,
   "metadata": {},
   "outputs": [
    {
     "data": {
      "text/html": [
       "<div>\n",
       "<style scoped>\n",
       "    .dataframe tbody tr th:only-of-type {\n",
       "        vertical-align: middle;\n",
       "    }\n",
       "\n",
       "    .dataframe tbody tr th {\n",
       "        vertical-align: top;\n",
       "    }\n",
       "\n",
       "    .dataframe thead th {\n",
       "        text-align: right;\n",
       "    }\n",
       "</style>\n",
       "<table border=\"1\" class=\"dataframe\">\n",
       "  <thead>\n",
       "    <tr style=\"text-align: right;\">\n",
       "      <th></th>\n",
       "      <th>analytics_matchkey</th>\n",
       "      <th>industry_code_kind_of_business</th>\n",
       "      <th>reporting_subscriber_code</th>\n",
       "      <th>public_record_type_code</th>\n",
       "      <th>effective_date_date_verified</th>\n",
       "      <th>filed_date</th>\n",
       "      <th>paid_date</th>\n",
       "      <th>amount</th>\n",
       "      <th>public_record_source_type_code</th>\n",
       "      <th>equal_credit_opportunity_act_code</th>\n",
       "      <th>legislative_prohibited_code</th>\n",
       "      <th>diff_paid_filed</th>\n",
       "      <th>diff_effe_paid</th>\n",
       "      <th>diff_effe_paid_int</th>\n",
       "      <th>diff_paid_filed_int</th>\n",
       "      <th>diff_paid_filed_bin</th>\n",
       "      <th>diff_effe_paid_bin</th>\n",
       "    </tr>\n",
       "  </thead>\n",
       "  <tbody>\n",
       "    <tr>\n",
       "      <th>0</th>\n",
       "      <td>1346747</td>\n",
       "      <td>ZP</td>\n",
       "      <td>99</td>\n",
       "      <td>CJ</td>\n",
       "      <td>2013-06-04</td>\n",
       "      <td>2013-01-29</td>\n",
       "      <td>NaT</td>\n",
       "      <td>1209.0</td>\n",
       "      <td>CI</td>\n",
       "      <td>I</td>\n",
       "      <td>1</td>\n",
       "      <td>NaT</td>\n",
       "      <td>NaT</td>\n",
       "      <td>NaN</td>\n",
       "      <td>NaN</td>\n",
       "      <td>NaN</td>\n",
       "      <td>NaN</td>\n",
       "    </tr>\n",
       "    <tr>\n",
       "      <th>1</th>\n",
       "      <td>1346748</td>\n",
       "      <td>ZP</td>\n",
       "      <td>485</td>\n",
       "      <td>7X</td>\n",
       "      <td>2014-09-25</td>\n",
       "      <td>2014-05-06</td>\n",
       "      <td>2014-09-24</td>\n",
       "      <td>NaN</td>\n",
       "      <td>FE</td>\n",
       "      <td>I</td>\n",
       "      <td>1</td>\n",
       "      <td>141 days</td>\n",
       "      <td>1 days</td>\n",
       "      <td>1.0</td>\n",
       "      <td>141.0</td>\n",
       "      <td>(119.0, 238.0]</td>\n",
       "      <td>(0.0, 50.0]</td>\n",
       "    </tr>\n",
       "    <tr>\n",
       "      <th>2</th>\n",
       "      <td>1346754</td>\n",
       "      <td>Z</td>\n",
       "      <td>11R</td>\n",
       "      <td>SL</td>\n",
       "      <td>2012-01-24</td>\n",
       "      <td>2011-04-05</td>\n",
       "      <td>NaT</td>\n",
       "      <td>2248.0</td>\n",
       "      <td>RD</td>\n",
       "      <td>I</td>\n",
       "      <td>1</td>\n",
       "      <td>NaT</td>\n",
       "      <td>NaT</td>\n",
       "      <td>NaN</td>\n",
       "      <td>NaN</td>\n",
       "      <td>NaN</td>\n",
       "      <td>NaN</td>\n",
       "    </tr>\n",
       "    <tr>\n",
       "      <th>3</th>\n",
       "      <td>1346754</td>\n",
       "      <td>ZP</td>\n",
       "      <td>1</td>\n",
       "      <td>7X</td>\n",
       "      <td>2013-01-29</td>\n",
       "      <td>2012-09-28</td>\n",
       "      <td>2013-01-28</td>\n",
       "      <td>NaN</td>\n",
       "      <td>FE</td>\n",
       "      <td>C</td>\n",
       "      <td>1</td>\n",
       "      <td>122 days</td>\n",
       "      <td>1 days</td>\n",
       "      <td>1.0</td>\n",
       "      <td>122.0</td>\n",
       "      <td>(119.0, 238.0]</td>\n",
       "      <td>(0.0, 50.0]</td>\n",
       "    </tr>\n",
       "    <tr>\n",
       "      <th>4</th>\n",
       "      <td>1346756</td>\n",
       "      <td>ZP</td>\n",
       "      <td>1</td>\n",
       "      <td>RL</td>\n",
       "      <td>2014-09-13</td>\n",
       "      <td>2007-02-02</td>\n",
       "      <td>2014-08-01</td>\n",
       "      <td>406.0</td>\n",
       "      <td>RD</td>\n",
       "      <td>I</td>\n",
       "      <td>1</td>\n",
       "      <td>2737 days</td>\n",
       "      <td>43 days</td>\n",
       "      <td>43.0</td>\n",
       "      <td>2737.0</td>\n",
       "      <td>(950.0, 3794.0]</td>\n",
       "      <td>(0.0, 50.0]</td>\n",
       "    </tr>\n",
       "  </tbody>\n",
       "</table>\n",
       "</div>"
      ],
      "text/plain": [
       "   analytics_matchkey industry_code_kind_of_business  \\\n",
       "0             1346747                             ZP   \n",
       "1             1346748                             ZP   \n",
       "2             1346754                              Z   \n",
       "3             1346754                             ZP   \n",
       "4             1346756                             ZP   \n",
       "\n",
       "  reporting_subscriber_code public_record_type_code  \\\n",
       "0                        99                      CJ   \n",
       "1                       485                      7X   \n",
       "2                       11R                      SL   \n",
       "3                         1                      7X   \n",
       "4                         1                      RL   \n",
       "\n",
       "  effective_date_date_verified filed_date  paid_date  amount  \\\n",
       "0                   2013-06-04 2013-01-29        NaT  1209.0   \n",
       "1                   2014-09-25 2014-05-06 2014-09-24     NaN   \n",
       "2                   2012-01-24 2011-04-05        NaT  2248.0   \n",
       "3                   2013-01-29 2012-09-28 2013-01-28     NaN   \n",
       "4                   2014-09-13 2007-02-02 2014-08-01   406.0   \n",
       "\n",
       "  public_record_source_type_code equal_credit_opportunity_act_code  \\\n",
       "0                             CI                                 I   \n",
       "1                             FE                                 I   \n",
       "2                             RD                                 I   \n",
       "3                             FE                                 C   \n",
       "4                             RD                                 I   \n",
       "\n",
       "   legislative_prohibited_code diff_paid_filed diff_effe_paid  \\\n",
       "0                            1             NaT            NaT   \n",
       "1                            1        141 days         1 days   \n",
       "2                            1             NaT            NaT   \n",
       "3                            1        122 days         1 days   \n",
       "4                            1       2737 days        43 days   \n",
       "\n",
       "   diff_effe_paid_int  diff_paid_filed_int diff_paid_filed_bin  \\\n",
       "0                 NaN                  NaN                 NaN   \n",
       "1                 1.0                141.0      (119.0, 238.0]   \n",
       "2                 NaN                  NaN                 NaN   \n",
       "3                 1.0                122.0      (119.0, 238.0]   \n",
       "4                43.0               2737.0     (950.0, 3794.0]   \n",
       "\n",
       "  diff_effe_paid_bin  \n",
       "0                NaN  \n",
       "1        (0.0, 50.0]  \n",
       "2                NaN  \n",
       "3        (0.0, 50.0]  \n",
       "4        (0.0, 50.0]  "
      ]
     },
     "execution_count": 141,
     "metadata": {},
     "output_type": "execute_result"
    }
   ],
   "source": [
    "publicRecords.head(5)"
   ]
  },
  {
   "cell_type": "markdown",
   "metadata": {},
   "source": [
    "#### Hypothesis 2: ('amount')Original amount is not required for all/segmentation?"
   ]
  },
  {
   "cell_type": "code",
   "execution_count": null,
   "metadata": {},
   "outputs": [],
   "source": []
  },
  {
   "cell_type": "code",
   "execution_count": null,
   "metadata": {},
   "outputs": [],
   "source": []
  },
  {
   "cell_type": "code",
   "execution_count": null,
   "metadata": {},
   "outputs": [],
   "source": []
  },
  {
   "cell_type": "code",
   "execution_count": null,
   "metadata": {},
   "outputs": [],
   "source": []
  },
  {
   "cell_type": "markdown",
   "metadata": {},
   "source": [
    "#### Hypothesis 3: The segmentation of Loans among the filed/ paid/ effective loans."
   ]
  },
  {
   "cell_type": "code",
   "execution_count": null,
   "metadata": {},
   "outputs": [],
   "source": []
  },
  {
   "cell_type": "code",
   "execution_count": null,
   "metadata": {},
   "outputs": [],
   "source": []
  },
  {
   "cell_type": "code",
   "execution_count": null,
   "metadata": {},
   "outputs": [],
   "source": []
  },
  {
   "cell_type": "code",
   "execution_count": null,
   "metadata": {},
   "outputs": [],
   "source": []
  },
  {
   "cell_type": "markdown",
   "metadata": {},
   "source": [
    "#### Hypothesis 4: The relationship beween the segmentations of Loans and amount."
   ]
  },
  {
   "cell_type": "code",
   "execution_count": null,
   "metadata": {},
   "outputs": [],
   "source": []
  },
  {
   "cell_type": "code",
   "execution_count": null,
   "metadata": {},
   "outputs": [],
   "source": []
  },
  {
   "cell_type": "code",
   "execution_count": null,
   "metadata": {},
   "outputs": [],
   "source": []
  },
  {
   "cell_type": "code",
   "execution_count": null,
   "metadata": {},
   "outputs": [],
   "source": []
  },
  {
   "cell_type": "markdown",
   "metadata": {},
   "source": [
    "#### Hypothesis X: By clustering the data, is there other trend/pattern?"
   ]
  },
  {
   "cell_type": "code",
   "execution_count": null,
   "metadata": {},
   "outputs": [],
   "source": []
  },
  {
   "cell_type": "code",
   "execution_count": null,
   "metadata": {},
   "outputs": [],
   "source": []
  },
  {
   "cell_type": "code",
   "execution_count": null,
   "metadata": {},
   "outputs": [],
   "source": []
  }
 ],
 "metadata": {
  "kernelspec": {
   "display_name": "Python 3",
   "language": "python",
   "name": "python3"
  },
  "language_info": {
   "codemirror_mode": {
    "name": "ipython",
    "version": 3
   },
   "file_extension": ".py",
   "mimetype": "text/x-python",
   "name": "python",
   "nbconvert_exporter": "python",
   "pygments_lexer": "ipython3",
   "version": "3.7.3"
  }
 },
 "nbformat": 4,
 "nbformat_minor": 2
}
