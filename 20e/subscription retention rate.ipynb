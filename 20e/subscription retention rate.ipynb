{
 "cells": [
  {
   "cell_type": "markdown",
   "metadata": {},
   "source": [
    "# Goal\n",
    "\n",
    "Company XYZ started a subscription model in January, 2015. You get hired as a first data scientist at the end of August and, as a first task, you are asked to help executives understand how the subscription model is doing.\n",
    "Therefore, you decide to pull data from all the users who subscribed in January and see, for each month, how many of them unsubscribed. In particular, your boss is interested in:\n",
    "\n",
    "1. A model that predicts monthly retention rate for the different subscription price points\n",
    "\n",
    "2. Based on your model, for each price point, what percentage of users is still subscribed after at least 12 months?\n",
    "\n",
    "3. How do user country and source affect subscription retention rate? \n",
    "\n",
    "4. How would you use these findings to improve the company revenue?\n",
    "\n",
    "\n",
    "# Data\n",
    "\n",
    "Columns:\n",
    "\n",
    "user_id : the id of the user. Unique by user.\n",
    "\n",
    "subscription_signup_date : when the user signed up for the subscription. It is always Jan, 2015 in this table.\n",
    "\n",
    "subscription_monthly_cost : how much the user pays each month for the subscription (USD)\n",
    "\n",
    "source : marketing acquisition channel (SEO/Ads/Friend Referral)\n",
    "\n",
    "billing_cycles : total billing cycles as of the end of August.\n",
    "\n",
    "is_active : whether the subscription is still active (1) or not (0). If billing cycles is 8, it means the user has still an active subscription.\n"
   ]
  },
  {
   "cell_type": "code",
   "execution_count": 1,
   "metadata": {},
   "outputs": [],
   "source": [
    "%matplotlib inline\n",
    "import random\n",
    "import pandas as pd\n",
    "import numpy as np\n",
    "import scipy.stats as st\n",
    "from datetime import date, timedelta\n",
    "\n",
    "\n",
    "import pdpbox\n",
    "from pdpbox import pdp\n",
    "from pdpbox.info_plots import target_plot\n",
    "import seaborn as sns\n",
    "import matplotlib.pyplot as plt\n",
    "\n",
    "from sklearn.preprocessing import LabelEncoder\n",
    "from sklearn.preprocessing import OneHotEncoder\n",
    "from sklearn.metrics import confusion_matrix \n",
    "from sklearn.model_selection import train_test_split \n",
    "from sklearn.tree import DecisionTreeClassifier \n",
    "from sklearn.metrics import accuracy_score \n",
    "from sklearn.metrics import classification_report\n",
    "from sklearn.tree.export import export_text\n",
    "from sklearn.tree import plot_tree\n",
    "from sklearn import preprocessing\n",
    "from sklearn.discriminant_analysis import LinearDiscriminantAnalysis\n",
    "\n",
    "pd.set_option('display.max_columns', None)"
   ]
  },
  {
   "cell_type": "code",
   "execution_count": 2,
   "metadata": {},
   "outputs": [],
   "source": [
    "df = pd.read_csv(\"subscription.csv\")"
   ]
  },
  {
   "cell_type": "code",
   "execution_count": 3,
   "metadata": {},
   "outputs": [
    {
     "data": {
      "text/html": [
       "<div>\n",
       "<style scoped>\n",
       "    .dataframe tbody tr th:only-of-type {\n",
       "        vertical-align: middle;\n",
       "    }\n",
       "\n",
       "    .dataframe tbody tr th {\n",
       "        vertical-align: top;\n",
       "    }\n",
       "\n",
       "    .dataframe thead th {\n",
       "        text-align: right;\n",
       "    }\n",
       "</style>\n",
       "<table border=\"1\" class=\"dataframe\">\n",
       "  <thead>\n",
       "    <tr style=\"text-align: right;\">\n",
       "      <th></th>\n",
       "      <th>user_id</th>\n",
       "      <th>subscription_signup_date</th>\n",
       "      <th>subscription_monthly_cost</th>\n",
       "      <th>country</th>\n",
       "      <th>source</th>\n",
       "      <th>billing_cycles</th>\n",
       "      <th>is_active</th>\n",
       "    </tr>\n",
       "  </thead>\n",
       "  <tbody>\n",
       "    <tr>\n",
       "      <th>0</th>\n",
       "      <td>1459</td>\n",
       "      <td>January, 2015</td>\n",
       "      <td>29</td>\n",
       "      <td>Spain</td>\n",
       "      <td>ads</td>\n",
       "      <td>4</td>\n",
       "      <td>0</td>\n",
       "    </tr>\n",
       "    <tr>\n",
       "      <th>1</th>\n",
       "      <td>12474</td>\n",
       "      <td>January, 2015</td>\n",
       "      <td>49</td>\n",
       "      <td>France</td>\n",
       "      <td>ads</td>\n",
       "      <td>5</td>\n",
       "      <td>0</td>\n",
       "    </tr>\n",
       "    <tr>\n",
       "      <th>2</th>\n",
       "      <td>12294</td>\n",
       "      <td>January, 2015</td>\n",
       "      <td>49</td>\n",
       "      <td>Germany</td>\n",
       "      <td>ads</td>\n",
       "      <td>2</td>\n",
       "      <td>0</td>\n",
       "    </tr>\n",
       "    <tr>\n",
       "      <th>3</th>\n",
       "      <td>3878</td>\n",
       "      <td>January, 2015</td>\n",
       "      <td>49</td>\n",
       "      <td>China</td>\n",
       "      <td>ads</td>\n",
       "      <td>1</td>\n",
       "      <td>0</td>\n",
       "    </tr>\n",
       "    <tr>\n",
       "      <th>4</th>\n",
       "      <td>9567</td>\n",
       "      <td>January, 2015</td>\n",
       "      <td>49</td>\n",
       "      <td>UK</td>\n",
       "      <td>ads</td>\n",
       "      <td>5</td>\n",
       "      <td>0</td>\n",
       "    </tr>\n",
       "  </tbody>\n",
       "</table>\n",
       "</div>"
      ],
      "text/plain": [
       "   user_id subscription_signup_date  subscription_monthly_cost  country  \\\n",
       "0     1459            January, 2015                         29    Spain   \n",
       "1    12474            January, 2015                         49   France   \n",
       "2    12294            January, 2015                         49  Germany   \n",
       "3     3878            January, 2015                         49    China   \n",
       "4     9567            January, 2015                         49       UK   \n",
       "\n",
       "  source  billing_cycles  is_active  \n",
       "0    ads               4          0  \n",
       "1    ads               5          0  \n",
       "2    ads               2          0  \n",
       "3    ads               1          0  \n",
       "4    ads               5          0  "
      ]
     },
     "execution_count": 3,
     "metadata": {},
     "output_type": "execute_result"
    }
   ],
   "source": [
    "df.head()"
   ]
  },
  {
   "cell_type": "code",
   "execution_count": 6,
   "metadata": {},
   "outputs": [
    {
     "data": {
      "text/html": [
       "<div>\n",
       "<style scoped>\n",
       "    .dataframe tbody tr th:only-of-type {\n",
       "        vertical-align: middle;\n",
       "    }\n",
       "\n",
       "    .dataframe tbody tr th {\n",
       "        vertical-align: top;\n",
       "    }\n",
       "\n",
       "    .dataframe thead th {\n",
       "        text-align: right;\n",
       "    }\n",
       "</style>\n",
       "<table border=\"1\" class=\"dataframe\">\n",
       "  <thead>\n",
       "    <tr style=\"text-align: right;\">\n",
       "      <th></th>\n",
       "      <th>user_id</th>\n",
       "      <th>subscription_monthly_cost</th>\n",
       "      <th>billing_cycles</th>\n",
       "      <th>is_active</th>\n",
       "      <th>unsub_month</th>\n",
       "    </tr>\n",
       "  </thead>\n",
       "  <tbody>\n",
       "    <tr>\n",
       "      <th>count</th>\n",
       "      <td>500000.000000</td>\n",
       "      <td>500000.000000</td>\n",
       "      <td>500000.000000</td>\n",
       "      <td>500000.000000</td>\n",
       "      <td>500000.000000</td>\n",
       "    </tr>\n",
       "    <tr>\n",
       "      <th>mean</th>\n",
       "      <td>250000.500000</td>\n",
       "      <td>48.469620</td>\n",
       "      <td>2.384970</td>\n",
       "      <td>0.099998</td>\n",
       "      <td>3.384970</td>\n",
       "    </tr>\n",
       "    <tr>\n",
       "      <th>std</th>\n",
       "      <td>144337.711635</td>\n",
       "      <td>19.570745</td>\n",
       "      <td>2.254952</td>\n",
       "      <td>0.299998</td>\n",
       "      <td>2.254952</td>\n",
       "    </tr>\n",
       "    <tr>\n",
       "      <th>min</th>\n",
       "      <td>1.000000</td>\n",
       "      <td>29.000000</td>\n",
       "      <td>1.000000</td>\n",
       "      <td>0.000000</td>\n",
       "      <td>2.000000</td>\n",
       "    </tr>\n",
       "    <tr>\n",
       "      <th>25%</th>\n",
       "      <td>125000.750000</td>\n",
       "      <td>29.000000</td>\n",
       "      <td>1.000000</td>\n",
       "      <td>0.000000</td>\n",
       "      <td>2.000000</td>\n",
       "    </tr>\n",
       "    <tr>\n",
       "      <th>50%</th>\n",
       "      <td>250000.500000</td>\n",
       "      <td>49.000000</td>\n",
       "      <td>1.000000</td>\n",
       "      <td>0.000000</td>\n",
       "      <td>2.000000</td>\n",
       "    </tr>\n",
       "    <tr>\n",
       "      <th>75%</th>\n",
       "      <td>375000.250000</td>\n",
       "      <td>49.000000</td>\n",
       "      <td>3.000000</td>\n",
       "      <td>0.000000</td>\n",
       "      <td>4.000000</td>\n",
       "    </tr>\n",
       "    <tr>\n",
       "      <th>max</th>\n",
       "      <td>500000.000000</td>\n",
       "      <td>99.000000</td>\n",
       "      <td>8.000000</td>\n",
       "      <td>1.000000</td>\n",
       "      <td>9.000000</td>\n",
       "    </tr>\n",
       "  </tbody>\n",
       "</table>\n",
       "</div>"
      ],
      "text/plain": [
       "             user_id  subscription_monthly_cost  billing_cycles  \\\n",
       "count  500000.000000              500000.000000   500000.000000   \n",
       "mean   250000.500000                  48.469620        2.384970   \n",
       "std    144337.711635                  19.570745        2.254952   \n",
       "min         1.000000                  29.000000        1.000000   \n",
       "25%    125000.750000                  29.000000        1.000000   \n",
       "50%    250000.500000                  49.000000        1.000000   \n",
       "75%    375000.250000                  49.000000        3.000000   \n",
       "max    500000.000000                  99.000000        8.000000   \n",
       "\n",
       "           is_active    unsub_month  \n",
       "count  500000.000000  500000.000000  \n",
       "mean        0.099998       3.384970  \n",
       "std         0.299998       2.254952  \n",
       "min         0.000000       2.000000  \n",
       "25%         0.000000       2.000000  \n",
       "50%         0.000000       2.000000  \n",
       "75%         0.000000       4.000000  \n",
       "max         1.000000       9.000000  "
      ]
     },
     "execution_count": 6,
     "metadata": {},
     "output_type": "execute_result"
    }
   ],
   "source": [
    "df.describe()"
   ]
  },
  {
   "cell_type": "code",
   "execution_count": 4,
   "metadata": {},
   "outputs": [],
   "source": [
    "df[\"unsub_month\"] = 1\n",
    "df[\"unsub_month\"] = df[\"unsub_month\"] + df[\"billing_cycles\"]"
   ]
  },
  {
   "cell_type": "code",
   "execution_count": 5,
   "metadata": {},
   "outputs": [
    {
     "data": {
      "text/html": [
       "<div>\n",
       "<style scoped>\n",
       "    .dataframe tbody tr th:only-of-type {\n",
       "        vertical-align: middle;\n",
       "    }\n",
       "\n",
       "    .dataframe tbody tr th {\n",
       "        vertical-align: top;\n",
       "    }\n",
       "\n",
       "    .dataframe thead th {\n",
       "        text-align: right;\n",
       "    }\n",
       "</style>\n",
       "<table border=\"1\" class=\"dataframe\">\n",
       "  <thead>\n",
       "    <tr style=\"text-align: right;\">\n",
       "      <th></th>\n",
       "      <th>user_id</th>\n",
       "      <th>subscription_signup_date</th>\n",
       "      <th>subscription_monthly_cost</th>\n",
       "      <th>country</th>\n",
       "      <th>source</th>\n",
       "      <th>billing_cycles</th>\n",
       "      <th>is_active</th>\n",
       "      <th>unsub_month</th>\n",
       "    </tr>\n",
       "  </thead>\n",
       "  <tbody>\n",
       "    <tr>\n",
       "      <th>0</th>\n",
       "      <td>1459</td>\n",
       "      <td>January, 2015</td>\n",
       "      <td>29</td>\n",
       "      <td>Spain</td>\n",
       "      <td>ads</td>\n",
       "      <td>4</td>\n",
       "      <td>0</td>\n",
       "      <td>5</td>\n",
       "    </tr>\n",
       "    <tr>\n",
       "      <th>1</th>\n",
       "      <td>12474</td>\n",
       "      <td>January, 2015</td>\n",
       "      <td>49</td>\n",
       "      <td>France</td>\n",
       "      <td>ads</td>\n",
       "      <td>5</td>\n",
       "      <td>0</td>\n",
       "      <td>6</td>\n",
       "    </tr>\n",
       "    <tr>\n",
       "      <th>2</th>\n",
       "      <td>12294</td>\n",
       "      <td>January, 2015</td>\n",
       "      <td>49</td>\n",
       "      <td>Germany</td>\n",
       "      <td>ads</td>\n",
       "      <td>2</td>\n",
       "      <td>0</td>\n",
       "      <td>3</td>\n",
       "    </tr>\n",
       "    <tr>\n",
       "      <th>3</th>\n",
       "      <td>3878</td>\n",
       "      <td>January, 2015</td>\n",
       "      <td>49</td>\n",
       "      <td>China</td>\n",
       "      <td>ads</td>\n",
       "      <td>1</td>\n",
       "      <td>0</td>\n",
       "      <td>2</td>\n",
       "    </tr>\n",
       "    <tr>\n",
       "      <th>4</th>\n",
       "      <td>9567</td>\n",
       "      <td>January, 2015</td>\n",
       "      <td>49</td>\n",
       "      <td>UK</td>\n",
       "      <td>ads</td>\n",
       "      <td>5</td>\n",
       "      <td>0</td>\n",
       "      <td>6</td>\n",
       "    </tr>\n",
       "  </tbody>\n",
       "</table>\n",
       "</div>"
      ],
      "text/plain": [
       "   user_id subscription_signup_date  subscription_monthly_cost  country  \\\n",
       "0     1459            January, 2015                         29    Spain   \n",
       "1    12474            January, 2015                         49   France   \n",
       "2    12294            January, 2015                         49  Germany   \n",
       "3     3878            January, 2015                         49    China   \n",
       "4     9567            January, 2015                         49       UK   \n",
       "\n",
       "  source  billing_cycles  is_active  unsub_month  \n",
       "0    ads               4          0            5  \n",
       "1    ads               5          0            6  \n",
       "2    ads               2          0            3  \n",
       "3    ads               1          0            2  \n",
       "4    ads               5          0            6  "
      ]
     },
     "execution_count": 5,
     "metadata": {},
     "output_type": "execute_result"
    }
   ],
   "source": [
    "df.head()"
   ]
  },
  {
   "cell_type": "code",
   "execution_count": 9,
   "metadata": {},
   "outputs": [
    {
     "data": {
      "text/plain": [
       "(500000, 8)"
      ]
     },
     "execution_count": 9,
     "metadata": {},
     "output_type": "execute_result"
    }
   ],
   "source": [
    "df.shape"
   ]
  },
  {
   "cell_type": "markdown",
   "metadata": {},
   "source": [
    "## Question 1\n",
    "A model that predicts monthly retention rate for the different subscription price points"
   ]
  },
  {
   "cell_type": "code",
   "execution_count": 19,
   "metadata": {},
   "outputs": [
    {
     "data": {
      "text/plain": [
       "array([29, 49, 99])"
      ]
     },
     "execution_count": 19,
     "metadata": {},
     "output_type": "execute_result"
    }
   ],
   "source": [
    "df[\"subscription_monthly_cost\"].unique()"
   ]
  },
  {
   "cell_type": "code",
   "execution_count": 20,
   "metadata": {},
   "outputs": [],
   "source": [
    "df_99 = df[df[\"subscription_monthly_cost\"]==99]\n",
    "df_49 = df[df[\"subscription_monthly_cost\"]==49]\n",
    "df_29 = df[df[\"subscription_monthly_cost\"]==29]"
   ]
  },
  {
   "cell_type": "code",
   "execution_count": 32,
   "metadata": {},
   "outputs": [],
   "source": [
    "def keep_num(data,var):\n",
    "    mon_total = []\n",
    "    for i in range(2,10):\n",
    "        mon_total.append(data[data[var]>=i].shape[0])\n",
    "    ratio = pd.DataFrame(mon_total).rolling(2).apply(lambda x: x[1]/x[0])\n",
    "    ratio = ratio[1:]\n",
    "    ratio.columns = [\"ratio\"]\n",
    "    ratio[\"month\"] = list(range(2,2+ratio.shape[0]))\n",
    "    return [mon_total, ratio]"
   ]
  },
  {
   "cell_type": "code",
   "execution_count": 70,
   "metadata": {},
   "outputs": [],
   "source": [
    "# linear regression\n",
    "from sklearn.linear_model import LinearRegression\n",
    "def lm_model(data):\n",
    "    x = np.array(data[\"month\"]).reshape((-1, 1))\n",
    "    y = np.array(data[\"ratio\"])\n",
    "    model = LinearRegression().fit(x, y)\n",
    "    inter = model.intercept_\n",
    "    coeffi = model.coef_\n",
    "    return[inter,coeffi]"
   ]
  },
  {
   "cell_type": "code",
   "execution_count": 73,
   "metadata": {},
   "outputs": [],
   "source": [
    "# logarithmic curve fit\n",
    "# reference: https://stackoverflow.com/questions/3433486/how-to-do-exponential-and-logarithmic-curve-fitting-in-python-i-found-only-poly\n",
    "def log_model(data):\n",
    "    x = np.array(data[\"month\"])\n",
    "    y = np.array(data[\"ratio\"])\n",
    "    [coeffi, inter] = np.polyfit(np.log(x), y, 1)\n",
    "    return [coeffi, inter]"
   ]
  },
  {
   "cell_type": "code",
   "execution_count": null,
   "metadata": {},
   "outputs": [],
   "source": []
  },
  {
   "cell_type": "code",
   "execution_count": 81,
   "metadata": {},
   "outputs": [
    {
     "name": "stdout",
     "output_type": "stream",
     "text": [
      "0.3875669893788086 ,  0.07024254260357832\n"
     ]
    },
    {
     "data": {
      "image/png": "[encoded data removed]",
      "text/plain": [
       "<Figure size 432x288 with 1 Axes>"
      ]
     },
     "metadata": {
      "needs_background": "light"
     },
     "output_type": "display_data"
    }
   ],
   "source": [
    "# obvious under-fit\n",
    "[e,f] = lm_model(b)\n",
    "print(e,\", \",f[0])\n",
    "x = np.linspace(1,12,100)\n",
    "y = e+f[0]*x\n",
    "plt.plot(x, y, label = \"fitted value\")\n",
    "plt.plot(b[\"month\"],b[\"ratio\"], label = \"observed data\")\n",
    "plt.title(\"Linear Model\")\n",
    "plt.legend(loc=\"upper left\")\n",
    "plt.xlabel(\"x\")\n",
    "plt.ylabel(\"y\")\n",
    "plt.show()"
   ]
  },
  {
   "cell_type": "code",
   "execution_count": 80,
   "metadata": {},
   "outputs": [
    {
     "name": "stdout",
     "output_type": "stream",
     "text": [
      "0.3273481053344161 ,  0.24286589267705627\n"
     ]
    },
    {
     "data": {
      "image/png": "[encoded data removed]",
      "text/plain": [
       "<Figure size 432x288 with 1 Axes>"
      ]
     },
     "metadata": {
      "needs_background": "light"
     },
     "output_type": "display_data"
    }
   ],
   "source": [
    "# better than lm, but still have two problems\n",
    "# underfit\n",
    "# the maximum would exceed 1\n",
    "\n",
    "[g,h] = log_model(b)\n",
    "print(g,\", \",h)\n",
    "x = np.linspace(1,12,100)\n",
    "y = g*np.log(x)+h\n",
    "plt.plot(x, y, label = \"fitted data\")\n",
    "plt.plot(b[\"month\"],b[\"ratio\"], label = \"observed data\")\n",
    "plt.title(\"Logarithmic curve fit\")\n",
    "plt.legend(loc=\"upper left\")\n",
    "plt.xlabel(\"x\")\n",
    "plt.ylabel(\"y\")\n",
    "plt.show()"
   ]
  },
  {
   "cell_type": "markdown",
   "metadata": {},
   "source": [
    "1. use the historical rate to predict the next one\n",
    "2. predict whether the user would stay with us"
   ]
  }
 ],
 "metadata": {
  "kernelspec": {
   "display_name": "Python 3",
   "language": "python",
   "name": "python3"
  },
  "language_info": {
   "codemirror_mode": {
    "name": "ipython",
    "version": 3
   },
   "file_extension": ".py",
   "mimetype": "text/x-python",
   "name": "python",
   "nbconvert_exporter": "python",
   "pygments_lexer": "ipython3",
   "version": "3.7.3"
  }
 },
 "nbformat": 4,
 "nbformat_minor": 2
}
