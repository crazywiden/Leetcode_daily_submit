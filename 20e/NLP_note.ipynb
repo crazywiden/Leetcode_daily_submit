{
 "cells": [
  {
   "cell_type": "markdown",
   "metadata": {},
   "source": [
    "Convolutional Neural Networks for Text\n",
    "\n",
    "Feature Combinations\n",
    "\n",
    "CNNs and Key Concepts\n",
    "\n",
    "Case Study on Sentiment Classification\n",
    "\n",
    "Structured CNNs\n",
    "\n",
    "Summary\n",
    "\n",
    "\n",
    "Prediciton Problem (Sentiment Classification)\n",
    "\n",
    "Method 1: CBOW\n",
    "1. One of the simplest methods\n",
    "2. Discrete symbols to continuous vectors\n",
    "3. Average all vectors\n",
    "\n",
    "Method 2: Deep CBOW\n",
    "1. More linear transformationns followed by activation functions (Multilayer Perceptron, MLP)\n",
    "Better performance is not guaranteed.\n",
    "\n",
    "What's the Use of the \"Deep\"\n",
    "1. easily to learn feature combinations\n",
    "\n",
    "Method 3: Bag of n-grams\n",
    "- A contiguous sequence of words\n",
    "Concatenate word vectors\n",
    "sum(word1,word2,...,wordn,bias)=scores-softmax->probs\n",
    "wordi = the unicode vector of the i-th word\n",
    "- allow us to capture combination features in a simple way\n",
    "- decent baseline model\n",
    "\n",
    "Problems of Bag of n-grams:\n",
    "1. parameter explosion\n",
    "2. No sharing between similar words/n-grams\n",
    "3. Lose the global sequence order\n",
    "\n",
    "Neural Sequence Models\n",
    "Sequence of words(characters)-->Composition Function(CBOW, Bag of n-grams, CNNs, RNNs, Tranformer, GraphNNs)-->Predict\n",
    "Most of NLP tasks->Sequence representation learning problem\n",
    "\n",
    "Definition of Convolution\n",
    "Convolution --> mathematical operation\n",
    "Continuous:(f*g)(t) = integral of f(t-tau)g(tau)d(tau)\n",
    "Discrete: (f*g)[n] = sum of f[n]g[m] m from -M to M\n",
    "\n"
   ]
  },
  {
   "cell_type": "code",
   "execution_count": null,
   "metadata": {},
   "outputs": [],
   "source": []
  }
 ],
 "metadata": {
  "kernelspec": {
   "display_name": "Python 3",
   "language": "python",
   "name": "python3"
  },
  "language_info": {
   "codemirror_mode": {
    "name": "ipython",
    "version": 3
   },
   "file_extension": ".py",
   "mimetype": "text/x-python",
   "name": "python",
   "nbconvert_exporter": "python",
   "pygments_lexer": "ipython3",
   "version": "3.7.3"
  }
 },
 "nbformat": 4,
 "nbformat_minor": 2
}
